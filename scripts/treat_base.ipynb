{
 "cells": [
  {
   "cell_type": "markdown",
   "metadata": {},
   "source": [
    "## IMPORT LIBRARIES"
   ]
  },
  {
   "cell_type": "code",
   "execution_count": 3,
   "metadata": {},
   "outputs": [],
   "source": [
    "import pandas as pd\n",
    "import json\n"
   ]
  },
  {
   "cell_type": "markdown",
   "metadata": {},
   "source": [
    "## LOAD BASES"
   ]
  },
  {
   "cell_type": "code",
   "execution_count": 8,
   "metadata": {},
   "outputs": [
    {
     "data": {
      "text/plain": [
       "dict_keys(['17 Léguas e Meia', '2001', 'Abri a Porta', 'A Bruxa de Mentira', 'Acertei No Milhar', 'A Ciência Em Si', 'A Coisa Mais Linda Que Existe', 'A Debandada', 'Afoxé É', 'A Gaivota', 'Água Benta', 'Água de Meninos', 'Alapala (The Myth of Shango)', 'A Linha e o Linho', 'A Luta Contra a Lata ou A Falência do Café', 'A Mão da Limpeza', 'Amarra o Teu Arado a Uma Estrela', 'Amor até o fim', 'A Moreninha', 'Andar Com Fé', 'A Novidade', 'Aos pes da cruz', 'A Paz', 'Aquele Abraço', 'Aquele Abraço ( Acoustic)', 'Aqui e Agora', 'A Raça Humana', 'A Rua', 'Asa Branca', 'A Situação Do Escurinho', 'A Sociedade Afluente', 'Assum Preto', 'Átimo de Pó', 'A Última Coisa Bonita', 'A Última Valsa', 'A Volta da Asa Branca', 'A Voz do Vivo', 'Axé, Babá', 'Babá Alapalá', 'Baby Hippie', 'Babylon', 'Back in Bahia', 'Back in Bahia (Amor e Sorte)', 'Back In Bahia / Atrás do Trio Elétrico', 'Baião atemporal', 'Baião da Penha', 'Balafon', 'Banda Um', 'Barca Grande', 'Beira-Mar', 'Beira-Mar (Acoustic)', 'Brand New Dream', 'Brazil Very Happy Band', 'Buda Nagô', 'Buffalo Soldier', 'Caçada das Leoas', 'Cada Macaco no Seu Galho', 'Cada Tempo em Seu Lugar', 'Can’t Find My Way home', 'Cara a Cara', 'Casinha Feliz', 'Cérebro Eletrônico', 'Chiclete com Banana', 'Chiquinho Azevedo', 'Chuck Berry Fields Forever', 'Ciclo da Vida', 'Cidade do Salvador', 'Ciência e Arte', 'Ciranda', 'Clichê do Clichê', 'Com Que Roupa', 'Copacabana', 'Copo vazio', 'Corações a Mil', 'Coragem Pra Suportar', 'Cores Vivas', 'Corintiá', 'Could You Be Loved', 'Crazy Pop Rock', 'Cultura e Civilização', 'Dança de Shiva', 'Dá Pra Ver o Amor Aqui', 'De Bob Dylan a Bob Marley - Um Samba Provocação', 'Decisão (Amor de Carnaval)', 'Deixar Você', 'De Onde Vem o Baião', 'De Ouro e Marfim', 'Desafinado', 'Desde que o Samba é Samba', 'Doente, morena', 'Domingo no Parque', 'Domingo No Parque (Ao Vivo)', 'Domingou', 'Dono do Pedaço', 'Doralice', 'Drão', 'Drão (Acoustic)', 'Duas Luas', 'Duplo Sentido', 'É', 'Easy skankin’', 'Edyth Cooper', 'Ela', 'Elá Poeira', 'Êle e Eu', 'Ele Falava Nisso Todo Dia', 'Ê Menina', 'Emoriô', 'Ensaio Geral', 'Ê, Povo, Ê', 'Era Nova', 'Escurinho', 'Esotérico', 'Esotérico (Acoustic)', 'Esperando na Janela', 'Essa é Pra Tocar no Rádio', 'Esses Moços (Pobres Moços)', 'Está em Ti (Reprise)', 'Está na Cara, Está na Cura', 'Estão em Ti', 'Estrela', 'Eu sambo mesmo', 'Eu Só Quero um Xodó', 'Eu Só Quero Um Xodó (Ao Vivo)', 'Eu Te Dei Meu Ané', 'Eu vim da Bahia', 'Expresso 2222', 'Expresso 2222 (Acoustic)', 'Extra', 'Extra II (O Rock da Segurança)', 'Falso Toureiro', 'Febril', 'Feliz Por Um Triz', 'Filhos de Gandhi', 'Flora', 'Fogo Líquido', 'Frevo Rasgado', 'Funk-Se Quem Puder', 'Futurível', 'Geleia Geral', 'Gilbertos', 'Giro', 'Goodbye, My Girl', 'Graça Divina', 'Guerra Santa', 'Haiti', 'Here and Now', 'Iansã', 'Iemanjá', 'Ilê Ayê', 'Imbalança', 'Imitação', 'Índigo Blue', 'Is This Love', 'Jacintho', 'Jeca Total', 'Joia Rara', 'Juazeiro', 'Jubiabá', 'Jurubeba', 'Kalil', 'Kaô', 'Kaya n’gan daya [kaya]', 'Labirinto', 'Ladeira da Preguiça', 'Lady Neyde', 'La Lune de Gorée', 'Lamento Sertanejo', 'La renaissance africaine', 'Lente do Amor', 'Lia e Deia', 'Lick samba', 'Língua do Pê', 'Logos Versus Logo', 'Logunedé', 'Louvação', 'Luar (A Gente Precisa Ver o Luar)', 'Lunik 9', 'Luzia Luluza', 'Macapá', 'Madalena', 'Mamma', 'Mancada', 'Máquina de ritmo', 'Maracatu Atômico', 'Marcha da Tietagem', 'Mar de Copacabana', 'Mardi 10 Mars', 'Marginália II', 'Maria (Me Perdoe, Maria)', 'Maria Minha', 'Marina', 'Meditação', 'Meio-de-Campo', 'Menina do Sonho', 'Metáfora', 'Mico Preto', 'Milagre', 'Minha Ideologia, Minha Religião', 'Minha Nega Na Janela', 'Minha Princesa Cordel', 'Minha Senhora', 'Miserere Nóbis', 'Monsieur Binot', 'Mon Tiers Monde', 'Morena', 'Move Along With Me', 'Mulher de Coronel', 'Músico Simples', 'Não Chore Mais (No Woman, No Cry)', 'Não chores mais', 'Na Real', 'Nêga (Photograph Blues)', 'Neve Na Bahia', 'Ninguém Segura Este País', 'Noite Sem Fim', 'Norte da Saudade', 'Nos Barracos da Cidade', 'Nossa', 'Nossa Gente (Avisa Lá)', 'Nova', 'Objeto Ainda Menos Identificado', 'Objeto Semi-Identificado', 'Objeto Sim, Objeto Não', 'O Bom Jogador', 'O Canto da Ema', 'O Compositor Me Disse', 'Odara (Ao Vivo)', 'O Eterno Deus Mu-Dança', 'O Fim da História', 'Óia Eu Aqui De Novo', 'OK OK OK', 'O Leão Vai Dormir', 'O Lugar do Nosso Amor', 'Omã Iaô', 'O Mar e o Lago', 'Ó, Maria', 'One Drop', 'One O’Clock Last Morning, 20th April 1970', 'Opachorô', 'O pato', 'Oração Pela Libertação da África do Sul', 'Oriente', 'O Rouxinol', 'O Seu Amor', 'O Som da Pessoa', 'O Sonho Acabou', 'Os Pais', 'Ouço', 'O Veado', 'Ovelha Negra (Ao Vivo)', 'Pai e Mãe', 'Palco', 'Parabolicamará', 'Parabolicamará (Acoustic)', 'Parque Industrial', 'Patuscada de Gandhi', 'Pé da Roseira', 'Pega a Voga, Cabeludo', 'Pela Internet', 'Pela Internet 2', 'Pessoa Nefasta', 'Pílula de Alho', 'Pipoca Moderna', 'Planeta Dos Macacos', 'Pop Wu Wei', 'Positive Vibration', 'Prados', 'Prece', 'Preciso Aprender a Ser Só', 'Preciso de Você', 'Procissão', 'Pula, Caminha', 'Punk da Periferia', 'Quanta', 'Quatro Pedacinhos', 'Quem Mandou (Pé Na Estrada)', 'Queremos Guerra', 'Queremos Saber', 'Quero Ser Teu Funk', 'Questão de Ordem', 'Quilombo, o el dorado negro', 'Rainha do Mar', 'Rancho da Rosa Encarnada', 'Realce', 'Rebel Music (3 O’Clock Road Block)', 'Rebento', 'Refavela', 'Refazenda', 'Refazenda (Acoustic)', 'Refloresta', 'Rei da Pedra dos Leões / Ciclo da Vida (Reprise)', 'Rep', 'Retiros Espirituais', 'Roda', 'Roque Santeiro, O Rock', 'Rosa morena', 'Sai do Sereno', 'Sala do Som', 'Samba de Los Angeles', 'Samba do Avião', 'Samba Rubro Negro', 'Sampa', 'Sandra', 'Sarará Miolo', 'Satisfação', 'Se Eu Quiser Falar Com Deus', 'Senhor Delegado', 'Sentimentos/Ladeira da Preguiça', 'Serafim', 'Sereno', 'Seu Olhar', 'Sgt. Pepper’s Lonely Hearts Club Band', 'Sina', 'Sítio do Picapau Amarelo', 'Sítio do Picapau Amarelo (Acoustic)', 'Sítio do Picapau Amarelo (Versão Original)', 'Sob Pressão', 'Sobre Todas As Coisas', 'Só Chamei Porque te Amo', 'Sol de Maria', 'Sonho Molhado', 'Soy loco por ti america', 'Superhomem - A canção', 'Table Tennis Table', 'Tá combinado', 'Tartaruguê', 'Tempo Rei', 'Tempo Só (Time Will Tell)', 'Tenho Sede', 'Tenho Sede  (Acoustic)', 'Terra Seca', 'Terremoto', 'Them Belly Full (But We Hungry)', 'The Secret Life of Plants', 'The Three Mushrooms', 'Three Little Birds', 'Tigresa', 'Tim Tim por Tim Tim', 'Tipo África', 'Toda Menina Baiana', 'Todo dia é dia D', 'Touche Pas à Mon Pote', 'Tradição', 'Três Caravelas (Las Três Carabelas)', 'Turn Your Lights Down Low', 'Último Pau-de-Arara', 'Um Abraço no João', 'Uma Coisa Bonitinha', 'Um a Um', 'Umeboshi', 'Um Sonho', 'Um Trem Para As Estrelas', 'Up From The Skies', 'Vamos Fugir', 'Vamos Passear no Astral', 'Vem Morena', 'Vendedor de Caranguejo', 'Vida', 'Viramundo', 'Vitrines', 'Você e Eu', 'Você e Você', 'Volks-Volkswagen Blues', 'Waiting in Vain', 'Xote', 'Yamandu', 'Yá Olokum'])"
      ]
     },
     "execution_count": 8,
     "metadata": {},
     "output_type": "execute_result"
    }
   ],
   "source": [
    "path = \"../data/data_music.json\"\n",
    "f = open(path)\n",
    "data_json = json.load(f)\n",
    "data_json.keys()"
   ]
  },
  {
   "cell_type": "code",
   "execution_count": 16,
   "metadata": {},
   "outputs": [
    {
     "name": "stdout",
     "output_type": "stream",
     "text": [
      "(368, 2)\n"
     ]
    },
    {
     "data": {
      "text/html": [
       "<div>\n",
       "<style scoped>\n",
       "    .dataframe tbody tr th:only-of-type {\n",
       "        vertical-align: middle;\n",
       "    }\n",
       "\n",
       "    .dataframe tbody tr th {\n",
       "        vertical-align: top;\n",
       "    }\n",
       "\n",
       "    .dataframe thead th {\n",
       "        text-align: right;\n",
       "    }\n",
       "</style>\n",
       "<table border=\"1\" class=\"dataframe\">\n",
       "  <thead>\n",
       "    <tr style=\"text-align: right;\">\n",
       "      <th></th>\n",
       "      <th>Musica</th>\n",
       "      <th>Letra</th>\n",
       "    </tr>\n",
       "  </thead>\n",
       "  <tbody>\n",
       "    <tr>\n",
       "      <th>0</th>\n",
       "      <td>17 Léguas e Meia</td>\n",
       "      <td>1 Contributor17 Léguas e Meia LyricsEu já ande...</td>\n",
       "    </tr>\n",
       "    <tr>\n",
       "      <th>1</th>\n",
       "      <td>2001</td>\n",
       "      <td>1 Contributor2001 LyricsAstronauta libertado\\n...</td>\n",
       "    </tr>\n",
       "    <tr>\n",
       "      <th>2</th>\n",
       "      <td>Abri a Porta</td>\n",
       "      <td>1 ContributorAbri a Porta LyricsAbri a porta\\n...</td>\n",
       "    </tr>\n",
       "    <tr>\n",
       "      <th>3</th>\n",
       "      <td>A Bruxa de Mentira</td>\n",
       "      <td>1 ContributorA Bruxa de Mentira LyricsA bruxa ...</td>\n",
       "    </tr>\n",
       "    <tr>\n",
       "      <th>4</th>\n",
       "      <td>Acertei No Milhar</td>\n",
       "      <td>2 ContributorsAcertei No Milhar LyricsEtelvina...</td>\n",
       "    </tr>\n",
       "  </tbody>\n",
       "</table>\n",
       "</div>"
      ],
      "text/plain": [
       "               Musica                                              Letra\n",
       "0    17 Léguas e Meia  1 Contributor17 Léguas e Meia LyricsEu já ande...\n",
       "1                2001  1 Contributor2001 LyricsAstronauta libertado\\n...\n",
       "2        Abri a Porta  1 ContributorAbri a Porta LyricsAbri a porta\\n...\n",
       "3  A Bruxa de Mentira  1 ContributorA Bruxa de Mentira LyricsA bruxa ...\n",
       "4   Acertei No Milhar  2 ContributorsAcertei No Milhar LyricsEtelvina..."
      ]
     },
     "execution_count": 16,
     "metadata": {},
     "output_type": "execute_result"
    }
   ],
   "source": [
    "base_pos = pd.DataFrame.from_dict(data_json, orient='index')\n",
    "base_pos.reset_index(inplace=True)\n",
    "base_pos.columns = [\"Musica\", \"Letra\"]\n",
    "print(base_pos.shape)\n",
    "base_pos.head()"
   ]
  },
  {
   "cell_type": "code",
   "execution_count": 22,
   "metadata": {},
   "outputs": [
    {
     "data": {
      "text/plain": [
       "Musica    0\n",
       "Letra     0\n",
       "dtype: int64"
      ]
     },
     "execution_count": 22,
     "metadata": {},
     "output_type": "execute_result"
    }
   ],
   "source": [
    "base_pos.isnull().sum()"
   ]
  },
  {
   "cell_type": "code",
   "execution_count": 24,
   "metadata": {},
   "outputs": [
    {
     "data": {
      "text/plain": [
       "array(['', '', ''], dtype=object)"
      ]
     },
     "execution_count": 24,
     "metadata": {},
     "output_type": "execute_result"
    }
   ],
   "source": [
    "## Check if we have duplicated lyrics\n",
    "\n",
    "filtro_duplicated = base_pos.duplicated(subset=[\"Letra\"], keep=False)\n",
    "base_pos[filtro_duplicated][\"Letra\"].values"
   ]
  },
  {
   "cell_type": "code",
   "execution_count": 29,
   "metadata": {},
   "outputs": [
    {
     "name": "stdout",
     "output_type": "stream",
     "text": [
      "(365, 2)\n"
     ]
    },
    {
     "name": "stderr",
     "output_type": "stream",
     "text": [
      "c:\\Users\\CarlissonMiller\\AppData\\Local\\Programs\\Python\\Python36\\lib\\site-packages\\ipykernel_launcher.py:3: UserWarning: Boolean Series key will be reindexed to match DataFrame index.\n",
      "  This is separate from the ipykernel package so we can avoid doing imports until\n"
     ]
    },
    {
     "data": {
      "text/html": [
       "<div>\n",
       "<style scoped>\n",
       "    .dataframe tbody tr th:only-of-type {\n",
       "        vertical-align: middle;\n",
       "    }\n",
       "\n",
       "    .dataframe tbody tr th {\n",
       "        vertical-align: top;\n",
       "    }\n",
       "\n",
       "    .dataframe thead th {\n",
       "        text-align: right;\n",
       "    }\n",
       "</style>\n",
       "<table border=\"1\" class=\"dataframe\">\n",
       "  <thead>\n",
       "    <tr style=\"text-align: right;\">\n",
       "      <th></th>\n",
       "      <th>Musica</th>\n",
       "      <th>Letra</th>\n",
       "    </tr>\n",
       "  </thead>\n",
       "  <tbody>\n",
       "    <tr>\n",
       "      <th>0</th>\n",
       "      <td>17 Léguas e Meia</td>\n",
       "      <td>1 Contributor17 Léguas e Meia LyricsEu já ande...</td>\n",
       "    </tr>\n",
       "    <tr>\n",
       "      <th>1</th>\n",
       "      <td>2001</td>\n",
       "      <td>1 Contributor2001 LyricsAstronauta libertado\\n...</td>\n",
       "    </tr>\n",
       "    <tr>\n",
       "      <th>2</th>\n",
       "      <td>Abri a Porta</td>\n",
       "      <td>1 ContributorAbri a Porta LyricsAbri a porta\\n...</td>\n",
       "    </tr>\n",
       "    <tr>\n",
       "      <th>3</th>\n",
       "      <td>A Bruxa de Mentira</td>\n",
       "      <td>1 ContributorA Bruxa de Mentira LyricsA bruxa ...</td>\n",
       "    </tr>\n",
       "    <tr>\n",
       "      <th>4</th>\n",
       "      <td>Acertei No Milhar</td>\n",
       "      <td>2 ContributorsAcertei No Milhar LyricsEtelvina...</td>\n",
       "    </tr>\n",
       "    <tr>\n",
       "      <th>5</th>\n",
       "      <td>A Ciência Em Si</td>\n",
       "      <td>2 ContributorsA Ciência Em Si LyricsSe toda co...</td>\n",
       "    </tr>\n",
       "    <tr>\n",
       "      <th>6</th>\n",
       "      <td>A Coisa Mais Linda Que Existe</td>\n",
       "      <td>3 ContributorsA Coisa Mais Linda Que Existe Ly...</td>\n",
       "    </tr>\n",
       "    <tr>\n",
       "      <th>7</th>\n",
       "      <td>A Debandada</td>\n",
       "      <td>1 ContributorA Debandada Lyrics\\nAah!\\nYona yo...</td>\n",
       "    </tr>\n",
       "    <tr>\n",
       "      <th>8</th>\n",
       "      <td>Afoxé É</td>\n",
       "      <td>2 ContributorsAfoxé É LyricsÊ-ô, ê-ô\\nÊ-ô, ê-ô...</td>\n",
       "    </tr>\n",
       "    <tr>\n",
       "      <th>9</th>\n",
       "      <td>A Gaivota</td>\n",
       "      <td>4 ContributorsA Gaivota LyricsGaivota menina\\n...</td>\n",
       "    </tr>\n",
       "    <tr>\n",
       "      <th>10</th>\n",
       "      <td>Água Benta</td>\n",
       "      <td>2 ContributorsÁgua Benta Lyrics\\nA água benta ...</td>\n",
       "    </tr>\n",
       "    <tr>\n",
       "      <th>11</th>\n",
       "      <td>Água de Meninos</td>\n",
       "      <td>3 ContributorsÁgua de Meninos LyricsNa minha t...</td>\n",
       "    </tr>\n",
       "    <tr>\n",
       "      <th>12</th>\n",
       "      <td>Alapala (The Myth of Shango)</td>\n",
       "      <td>1 ContributorAlapala (The Myth of Shango) Lyri...</td>\n",
       "    </tr>\n",
       "    <tr>\n",
       "      <th>13</th>\n",
       "      <td>A Linha e o Linho</td>\n",
       "      <td>2 ContributorsA Linha e o Linho LyricsÉ a sua ...</td>\n",
       "    </tr>\n",
       "    <tr>\n",
       "      <th>14</th>\n",
       "      <td>A Luta Contra a Lata ou A Falência do Café</td>\n",
       "      <td>4 ContributorsA Luta Contra a Lata ou A Falênc...</td>\n",
       "    </tr>\n",
       "    <tr>\n",
       "      <th>15</th>\n",
       "      <td>A Mão da Limpeza</td>\n",
       "      <td>3 ContributorsA Mão da Limpeza LyricsO branco ...</td>\n",
       "    </tr>\n",
       "    <tr>\n",
       "      <th>16</th>\n",
       "      <td>Amarra o Teu Arado a Uma Estrela</td>\n",
       "      <td>2 ContributorsAmarra o Teu Arado a Uma Estrela...</td>\n",
       "    </tr>\n",
       "    <tr>\n",
       "      <th>17</th>\n",
       "      <td>Amor até o fim</td>\n",
       "      <td>3 ContributorsAmor até o fim LyricsAmor não te...</td>\n",
       "    </tr>\n",
       "    <tr>\n",
       "      <th>18</th>\n",
       "      <td>A Moreninha</td>\n",
       "      <td>4 ContributorsA Moreninha LyricsLá perto de ca...</td>\n",
       "    </tr>\n",
       "    <tr>\n",
       "      <th>19</th>\n",
       "      <td>Andar Com Fé</td>\n",
       "      <td>5 ContributorsAndar Com Fé LyricsE6\\nAndar com...</td>\n",
       "    </tr>\n",
       "  </tbody>\n",
       "</table>\n",
       "</div>"
      ],
      "text/plain": [
       "                                        Musica  \\\n",
       "0                             17 Léguas e Meia   \n",
       "1                                         2001   \n",
       "2                                 Abri a Porta   \n",
       "3                           A Bruxa de Mentira   \n",
       "4                            Acertei No Milhar   \n",
       "5                              A Ciência Em Si   \n",
       "6                A Coisa Mais Linda Que Existe   \n",
       "7                                  A Debandada   \n",
       "8                                      Afoxé É   \n",
       "9                                    A Gaivota   \n",
       "10                                  Água Benta   \n",
       "11                             Água de Meninos   \n",
       "12                Alapala (The Myth of Shango)   \n",
       "13                           A Linha e o Linho   \n",
       "14  A Luta Contra a Lata ou A Falência do Café   \n",
       "15                            A Mão da Limpeza   \n",
       "16            Amarra o Teu Arado a Uma Estrela   \n",
       "17                              Amor até o fim   \n",
       "18                                 A Moreninha   \n",
       "19                                Andar Com Fé   \n",
       "\n",
       "                                                Letra  \n",
       "0   1 Contributor17 Léguas e Meia LyricsEu já ande...  \n",
       "1   1 Contributor2001 LyricsAstronauta libertado\\n...  \n",
       "2   1 ContributorAbri a Porta LyricsAbri a porta\\n...  \n",
       "3   1 ContributorA Bruxa de Mentira LyricsA bruxa ...  \n",
       "4   2 ContributorsAcertei No Milhar LyricsEtelvina...  \n",
       "5   2 ContributorsA Ciência Em Si LyricsSe toda co...  \n",
       "6   3 ContributorsA Coisa Mais Linda Que Existe Ly...  \n",
       "7   1 ContributorA Debandada Lyrics\\nAah!\\nYona yo...  \n",
       "8   2 ContributorsAfoxé É LyricsÊ-ô, ê-ô\\nÊ-ô, ê-ô...  \n",
       "9   4 ContributorsA Gaivota LyricsGaivota menina\\n...  \n",
       "10  2 ContributorsÁgua Benta Lyrics\\nA água benta ...  \n",
       "11  3 ContributorsÁgua de Meninos LyricsNa minha t...  \n",
       "12  1 ContributorAlapala (The Myth of Shango) Lyri...  \n",
       "13  2 ContributorsA Linha e o Linho LyricsÉ a sua ...  \n",
       "14  4 ContributorsA Luta Contra a Lata ou A Falênc...  \n",
       "15  3 ContributorsA Mão da Limpeza LyricsO branco ...  \n",
       "16  2 ContributorsAmarra o Teu Arado a Uma Estrela...  \n",
       "17  3 ContributorsAmor até o fim LyricsAmor não te...  \n",
       "18  4 ContributorsA Moreninha LyricsLá perto de ca...  \n",
       "19  5 ContributorsAndar Com Fé LyricsE6\\nAndar com...  "
      ]
     },
     "execution_count": 29,
     "metadata": {},
     "output_type": "execute_result"
    }
   ],
   "source": [
    "## Lets exclude the duplicated rows \n",
    "\n",
    "base_pos = base_pos[~filtro_duplicated]\n",
    "print(base_pos.shape)\n",
    "base_pos.head(20)"
   ]
  },
  {
   "cell_type": "code",
   "execution_count": 63,
   "metadata": {},
   "outputs": [
    {
     "name": "stdout",
     "output_type": "stream",
     "text": [
      "5 ContributorsAndar Com Fé LyricsE6\n",
      "Andar com fé eu vou\n",
      "B7 b7/4 b7\n",
      "Que a fé não 'cause-tuma \"faiá\"\n",
      "E6\n",
      "Andar com fé eu vou\n",
      "B7 b7/4 b7\n",
      "Que a fé não 'cause-tuma \"faiá\"\n",
      "E6\n",
      "Andar com fé eu vou\n",
      "B7 b7/4 b7\n",
      "Que a fé não 'cause-tuma \"faiá\"\n",
      "E6\n",
      "Que a fé tá na mulher\n",
      "B7\n",
      "A fé tá na cobra co-ral\n",
      "A\n",
      "Ô-ô\n",
      "G#m7 F#m7 B7\n",
      "Num peda-ço de pão\n",
      "E6\n",
      "A fé tá na maré\n",
      "B7\n",
      "Na lâmina de um pu-nhal\n",
      "A\n",
      "Ô-ô\n",
      "G#m7 F#m7 B7/4 B7\n",
      "Na luz, na escuridão\n",
      "E6\n",
      "Andá com fé eu vou\n",
      "B7 b7/4 b7\n",
      "Que a fé não 'cause-tuma \"faiá\"\n",
      "E6\n",
      "Andá com fé eu vou\n",
      "B7 b7/4 b7\n",
      "Que a fé não 'cause-tuma \"faiá\"\n",
      "E6\n",
      "A fé tá na manhã\n",
      "B7\n",
      "A fé tá no anoite-cer\n",
      "A\n",
      "Ô-ô\n",
      "G#m7 F#m7 B7/4 B7\n",
      "No calor do verão\n",
      "E6\n",
      "A fé tá viva e sã\n",
      "B7\n",
      "A fé também tá pra mor-rer\n",
      "E6\n",
      "Ô-ô\n",
      "G#m7 F#m7 B7/4 B7\n",
      "Tris-te na solidão\n",
      "E6\n",
      "Andá com fé eu vou\n",
      "B7 b7/4 b7\n",
      "Que a fé não 'cause-tuma \"faiá\"\n",
      "E6\n",
      "Andá com fé eu vou\n",
      "B7 b7/4 b7\n",
      "Que a fé não 'cause-tuma \"faiá\"\n",
      "E6\n",
      "Andá com fé eu vou\n",
      "B7 b7/4 b7\n",
      "Que a fé não 'cause-tuma \"faiá\"\n",
      "E6\n",
      "Certo ou errado até\n",
      "B7\n",
      "A fé vai on-de quer que eu vá\n",
      "A\n",
      "Ô-ô\n",
      "G#m7 F#m7 B7/4 B7\n",
      "A pé ou de avião\n",
      "E6\n",
      "Mesmo a quem não tem fé\n",
      "B7\n",
      "A fé costuma acompa-nhar\n",
      "A\n",
      "Ô-ô\n",
      "G#m7 F#m7 B7/4 B7You might also likeEmbed\n"
     ]
    }
   ],
   "source": [
    "## Lets see the lyrics\n",
    "print(base_pos.iloc[19,1])"
   ]
  },
  {
   "cell_type": "code",
   "execution_count": 69,
   "metadata": {},
   "outputs": [],
   "source": [
    "def remove_expr(text):\n",
    "    split1 = text.split(\"Lyrics\")[1]\n",
    "    split2 = split1.replace(\"Embed\", \"\")\n",
    "    split3 = split2.replace(\"You might also like\", \"\")\n",
    "    return split3"
   ]
  },
  {
   "cell_type": "code",
   "execution_count": 73,
   "metadata": {},
   "outputs": [
    {
     "data": {
      "text/plain": [
       "'Tão longe\\nA alegria estava então\\nTão longe\\nO seu sorriso de verão\\nEu sei\\nQuanto custou ter que esperar\\nAté\\nSeu precioso bom humor voltar\\nÊ, povo, ê, povo, ê\\nDesabafa o coração\\nÊ, povo, ê, povo, ê\\nViver\\nÉ simplesmente um grande balão\\nVoar\\nPro céu azul é a missão\\nÊ, povo, ê, povo, ê\\nPelo amor de deus, cantar\\nÊ, povo, ê, povo, ê\\nPelo bom humor, dançar\\nÊ, povo, ê, povo, ê\\nPelo céu azul voar\\nÊ, povo, ê, povo, ê-ê'"
      ]
     },
     "execution_count": 73,
     "metadata": {},
     "output_type": "execute_result"
    }
   ],
   "source": [
    "remove_expr(text=base_pos.iloc[109,1])"
   ]
  },
  {
   "cell_type": "markdown",
   "metadata": {},
   "source": [
    "### TAREFAS:\n",
    "    - Criar um codigo que exclui as cifras\n",
    "    - Tirar possiveis espacos no comeco e no fim das letras. Usar strip()\n",
    "    - Tirar pontuacoes e converter tudo para minusculo\n",
    "    - Checar valores duplicados\n",
    "    - Criar funcao para exlcuir letras em ingles"
   ]
  },
  {
   "cell_type": "code",
   "execution_count": null,
   "metadata": {},
   "outputs": [],
   "source": []
  }
 ],
 "metadata": {
  "kernelspec": {
   "display_name": "Python 3",
   "language": "python",
   "name": "python3"
  },
  "language_info": {
   "codemirror_mode": {
    "name": "ipython",
    "version": 3
   },
   "file_extension": ".py",
   "mimetype": "text/x-python",
   "name": "python",
   "nbconvert_exporter": "python",
   "pygments_lexer": "ipython3",
   "version": "3.6.8"
  },
  "orig_nbformat": 4
 },
 "nbformat": 4,
 "nbformat_minor": 2
}
